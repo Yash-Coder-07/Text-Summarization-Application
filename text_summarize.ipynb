{
 "cells": [
  {
   "cell_type": "code",
   "execution_count": 10,
   "id": "54f5d029",
   "metadata": {},
   "outputs": [],
   "source": [
    "text = \"\"\"In a world often dominated by negativity, it's important to remember the power of kindness and compassion. Small acts of kindness have the ability to brighten someone's day, uplift spirits, and create a ripple effect of positivity that can spread far and wide. Whether it's a smile to a stranger, a helping hand to a friend in need, or a thoughtful gesture to a colleague, every act of kindness has the potential to make a difference in someone's life.Beyond individual actions, there is also immense power in collective efforts to create positive change. When communities come together to support one another, incredible things can happen. From grassroots initiatives to global movements, people are uniting to tackle pressing social and environmental issues, driving meaningful progress and inspiring hope for a better future.It's also important to recognize the strength that lies within each and every one of us. We all have the ability to make a positive impact, no matter how small our actions may seem. By tapping into our innate compassion and empathy, we can cultivate a culture of kindness and empathy that enriches our lives and those around us.So let's embrace the power of kindness, and strive to make the world a better place one small act at a time. Together, we can create a brighter, more compassionate future for all.\"\"\""
   ]
  },
  {
   "cell_type": "code",
   "execution_count": 11,
   "id": "00207aa8",
   "metadata": {},
   "outputs": [
    {
     "data": {
      "text/plain": [
       "1335"
      ]
     },
     "execution_count": 11,
     "metadata": {},
     "output_type": "execute_result"
    }
   ],
   "source": [
    "len(text)"
   ]
  },
  {
   "cell_type": "code",
   "execution_count": 12,
   "id": "097335b4",
   "metadata": {},
   "outputs": [],
   "source": [
    "import spacy \n",
    "from spacy.lang.en.stop_words import STOP_WORDS\n",
    "from string import punctuation\n",
    "import spacy.cli"
   ]
  },
  {
   "cell_type": "code",
   "execution_count": 13,
   "id": "156f4666",
   "metadata": {},
   "outputs": [
    {
     "name": "stdout",
     "output_type": "stream",
     "text": [
      "\u001b[38;5;2m✔ Download and installation successful\u001b[0m\n",
      "You can now load the package via spacy.load('en_core_web_sm')\n",
      "\u001b[38;5;3m⚠ Restart to reload dependencies\u001b[0m\n",
      "If you are in a Jupyter or Colab notebook, you may need to restart Python in\n",
      "order to load all the package's dependencies. You can do this by selecting the\n",
      "'Restart kernel' or 'Restart runtime' option.\n"
     ]
    }
   ],
   "source": [
    "spacy.cli.download(\"en_core_web_sm\")\n",
    "nlp = spacy.load(\"en_core_web_sm\")\n"
   ]
  },
  {
   "cell_type": "code",
   "execution_count": 14,
   "id": "93155ff3",
   "metadata": {},
   "outputs": [],
   "source": [
    "doc = nlp(text)"
   ]
  },
  {
   "cell_type": "code",
   "execution_count": 16,
   "id": "7a086307",
   "metadata": {},
   "outputs": [],
   "source": [
    "## Tokenization \n",
    "tokens = [token.text.lower() for token in doc if not token.is_stop and not token.is_punct and token.text !='\\n']"
   ]
  },
  {
   "cell_type": "code",
   "execution_count": 17,
   "id": "4ee5af25",
   "metadata": {},
   "outputs": [
    {
     "data": {
      "text/plain": [
       "['world',\n",
       " 'dominated',\n",
       " 'negativity',\n",
       " 'important',\n",
       " 'remember',\n",
       " 'power',\n",
       " 'kindness',\n",
       " 'compassion',\n",
       " 'small',\n",
       " 'acts',\n",
       " 'kindness',\n",
       " 'ability',\n",
       " 'brighten',\n",
       " 'day',\n",
       " 'uplift',\n",
       " 'spirits',\n",
       " 'create',\n",
       " 'ripple',\n",
       " 'effect',\n",
       " 'positivity',\n",
       " 'spread',\n",
       " 'far',\n",
       " 'wide',\n",
       " 'smile',\n",
       " 'stranger',\n",
       " 'helping',\n",
       " 'hand',\n",
       " 'friend',\n",
       " 'need',\n",
       " 'thoughtful',\n",
       " 'gesture',\n",
       " 'colleague',\n",
       " 'act',\n",
       " 'kindness',\n",
       " 'potential',\n",
       " 'difference',\n",
       " 'life',\n",
       " 'individual',\n",
       " 'actions',\n",
       " 'immense',\n",
       " 'power',\n",
       " 'collective',\n",
       " 'efforts',\n",
       " 'create',\n",
       " 'positive',\n",
       " 'change',\n",
       " 'communities',\n",
       " 'come',\n",
       " 'support',\n",
       " 'incredible',\n",
       " 'things',\n",
       " 'happen',\n",
       " 'grassroots',\n",
       " 'initiatives',\n",
       " 'global',\n",
       " 'movements',\n",
       " 'people',\n",
       " 'uniting',\n",
       " 'tackle',\n",
       " 'pressing',\n",
       " 'social',\n",
       " 'environmental',\n",
       " 'issues',\n",
       " 'driving',\n",
       " 'meaningful',\n",
       " 'progress',\n",
       " 'inspiring',\n",
       " 'hope',\n",
       " 'better',\n",
       " 'future',\n",
       " 'important',\n",
       " 'recognize',\n",
       " 'strength',\n",
       " 'lies',\n",
       " 'ability',\n",
       " 'positive',\n",
       " 'impact',\n",
       " 'matter',\n",
       " 'small',\n",
       " 'actions',\n",
       " 'tapping',\n",
       " 'innate',\n",
       " 'compassion',\n",
       " 'empathy',\n",
       " 'cultivate',\n",
       " 'culture',\n",
       " 'kindness',\n",
       " 'empathy',\n",
       " 'enriches',\n",
       " 'lives',\n",
       " 'let',\n",
       " 'embrace',\n",
       " 'power',\n",
       " 'kindness',\n",
       " 'strive',\n",
       " 'world',\n",
       " 'better',\n",
       " 'place',\n",
       " 'small',\n",
       " 'act',\n",
       " 'time',\n",
       " 'create',\n",
       " 'brighter',\n",
       " 'compassionate',\n",
       " 'future']"
      ]
     },
     "execution_count": 17,
     "metadata": {},
     "output_type": "execute_result"
    }
   ],
   "source": [
    "tokens"
   ]
  },
  {
   "cell_type": "code",
   "execution_count": 18,
   "id": "0d1f43df",
   "metadata": {},
   "outputs": [],
   "source": [
    "## alternative method for tokens \n",
    "tokens1=[]\n",
    "stopwords = list(STOP_WORDS)\n",
    "allowed_pos = ['ADJ','PROPN','VERB','NOUN']\n",
    "for token in doc:\n",
    "    if token.text in stopwords or token.text in punctuation:\n",
    "        continue\n",
    "    if token.pos_ in allowed_pos:\n",
    "        tokens1.append(token.text)"
   ]
  },
  {
   "cell_type": "code",
   "execution_count": 19,
   "id": "8e244881",
   "metadata": {},
   "outputs": [
    {
     "data": {
      "text/plain": [
       "['world',\n",
       " 'dominated',\n",
       " 'negativity',\n",
       " 'important',\n",
       " 'remember',\n",
       " 'power',\n",
       " 'kindness',\n",
       " 'compassion',\n",
       " 'Small',\n",
       " 'acts',\n",
       " 'kindness',\n",
       " 'ability',\n",
       " 'brighten',\n",
       " 'day',\n",
       " 'uplift',\n",
       " 'spirits',\n",
       " 'create',\n",
       " 'ripple',\n",
       " 'effect',\n",
       " 'positivity',\n",
       " 'spread',\n",
       " 'smile',\n",
       " 'stranger',\n",
       " 'helping',\n",
       " 'hand',\n",
       " 'friend',\n",
       " 'need',\n",
       " 'thoughtful',\n",
       " 'gesture',\n",
       " 'colleague',\n",
       " 'act',\n",
       " 'kindness',\n",
       " 'potential',\n",
       " 'difference',\n",
       " 'life',\n",
       " 'individual',\n",
       " 'actions',\n",
       " 'immense',\n",
       " 'power',\n",
       " 'collective',\n",
       " 'efforts',\n",
       " 'create',\n",
       " 'positive',\n",
       " 'change',\n",
       " 'communities',\n",
       " 'come',\n",
       " 'support',\n",
       " 'incredible',\n",
       " 'things',\n",
       " 'happen',\n",
       " 'grassroots',\n",
       " 'initiatives',\n",
       " 'global',\n",
       " 'movements',\n",
       " 'people',\n",
       " 'uniting',\n",
       " 'tackle',\n",
       " 'pressing',\n",
       " 'social',\n",
       " 'environmental',\n",
       " 'issues',\n",
       " 'driving',\n",
       " 'meaningful',\n",
       " 'progress',\n",
       " 'inspiring',\n",
       " 'hope',\n",
       " 'better',\n",
       " 'future',\n",
       " 'important',\n",
       " 'recognize',\n",
       " 'strength',\n",
       " 'lies',\n",
       " 'ability',\n",
       " 'positive',\n",
       " 'impact',\n",
       " 'small',\n",
       " 'actions',\n",
       " 'tapping',\n",
       " 'innate',\n",
       " 'compassion',\n",
       " 'empathy',\n",
       " 'cultivate',\n",
       " 'culture',\n",
       " 'kindness',\n",
       " 'empathy',\n",
       " 'enriches',\n",
       " 'lives',\n",
       " 'let',\n",
       " 'embrace',\n",
       " 'power',\n",
       " 'kindness',\n",
       " 'strive',\n",
       " 'world',\n",
       " 'better',\n",
       " 'place',\n",
       " 'small',\n",
       " 'act',\n",
       " 'time',\n",
       " 'create',\n",
       " 'brighter',\n",
       " 'compassionate',\n",
       " 'future']"
      ]
     },
     "execution_count": 19,
     "metadata": {},
     "output_type": "execute_result"
    }
   ],
   "source": [
    "tokens1"
   ]
  },
  {
   "cell_type": "code",
   "execution_count": 20,
   "id": "384dbaeb",
   "metadata": {},
   "outputs": [],
   "source": [
    "from collections import Counter"
   ]
  },
  {
   "cell_type": "code",
   "execution_count": null,
   "id": "b831eaf4",
   "metadata": {},
   "outputs": [],
   "source": []
  },
  {
   "cell_type": "code",
   "execution_count": null,
   "id": "4e28ed85",
   "metadata": {},
   "outputs": [],
   "source": []
  },
  {
   "cell_type": "code",
   "execution_count": null,
   "id": "7672229d",
   "metadata": {},
   "outputs": [],
   "source": []
  },
  {
   "cell_type": "code",
   "execution_count": null,
   "id": "2bf0c032",
   "metadata": {},
   "outputs": [],
   "source": []
  },
  {
   "cell_type": "code",
   "execution_count": null,
   "id": "800088b4",
   "metadata": {},
   "outputs": [],
   "source": []
  },
  {
   "cell_type": "code",
   "execution_count": null,
   "id": "ab842350",
   "metadata": {},
   "outputs": [],
   "source": []
  },
  {
   "cell_type": "code",
   "execution_count": null,
   "id": "155c5bff",
   "metadata": {},
   "outputs": [],
   "source": []
  },
  {
   "cell_type": "code",
   "execution_count": null,
   "id": "993178fc",
   "metadata": {},
   "outputs": [],
   "source": []
  },
  {
   "cell_type": "code",
   "execution_count": null,
   "id": "1a0c1fbc",
   "metadata": {},
   "outputs": [],
   "source": []
  },
  {
   "cell_type": "code",
   "execution_count": null,
   "id": "9edb4cad",
   "metadata": {},
   "outputs": [],
   "source": []
  },
  {
   "cell_type": "code",
   "execution_count": null,
   "id": "1cc2a12c",
   "metadata": {},
   "outputs": [],
   "source": []
  },
  {
   "cell_type": "code",
   "execution_count": null,
   "id": "435b9f13",
   "metadata": {},
   "outputs": [],
   "source": []
  },
  {
   "cell_type": "code",
   "execution_count": null,
   "id": "3495b925",
   "metadata": {},
   "outputs": [],
   "source": []
  },
  {
   "cell_type": "code",
   "execution_count": null,
   "id": "e8421d91",
   "metadata": {},
   "outputs": [],
   "source": []
  },
  {
   "cell_type": "code",
   "execution_count": null,
   "id": "83bd2d94",
   "metadata": {},
   "outputs": [],
   "source": []
  },
  {
   "cell_type": "code",
   "execution_count": null,
   "id": "0ace33f8",
   "metadata": {},
   "outputs": [],
   "source": []
  },
  {
   "cell_type": "code",
   "execution_count": null,
   "id": "1fd49aa1",
   "metadata": {},
   "outputs": [],
   "source": []
  }
 ],
 "metadata": {
  "kernelspec": {
   "display_name": "Python 3",
   "language": "python",
   "name": "python3"
  },
  "language_info": {
   "codemirror_mode": {
    "name": "ipython",
    "version": 3
   },
   "file_extension": ".py",
   "mimetype": "text/x-python",
   "name": "python",
   "nbconvert_exporter": "python",
   "pygments_lexer": "ipython3",
   "version": "3.11.1"
  }
 },
 "nbformat": 4,
 "nbformat_minor": 5
}
